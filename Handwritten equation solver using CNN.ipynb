{
 "cells": [
  {
   "cell_type": "code",
   "execution_count": 1,
   "metadata": {},
   "outputs": [],
   "source": [
    "import pandas as pd\n",
    "import matplotlib.pyplot as plt\n",
    "import os\n",
    "import numpy as np\n",
    "from PIL import Image\n",
    "import cv2\n",
    "from os import listdir\n",
    "from os.path import isfile,join"
   ]
  },
  {
   "attachments": {
    "threshold.jpg": {
     "image/jpeg": "[encoded data removed]"
    }
   },
   "cell_type": "markdown",
   "metadata": {},
   "source": [
    " ### 1.Python method listdir() \n",
    " #### returns a list containing the names of the entries in the directory given by path.\n",
    "\n",
    "### 2.cv2.imread(path, flag)  - \n",
    "#### cv2.IMREAD_GRAYSCALE: It specifies to load an image in grayscale mode. Alternatively, we can pass integer value 0 for this flag.\n",
    "### 3.Simple Thresholding - \n",
    "#### For every pixel, the same threshold value is applied. If the pixel value is smaller than the threshold, it is set to 0, otherwise it is set to a maximum value.  The function cv.threshold is used to apply the thresholding. The first argument is the source image, which should be a grayscale image. The second argument is the threshold value which is used to classify the pixel values. The third argument is the maximum value which is assigned to pixel values exceeding the threshold.![threshold.jpg](attachment:threshold.jpg)\n"
   ]
  },
  {
   "cell_type": "markdown",
   "metadata": {},
   "source": [
    "#### RETR_EXTERNAL -in some cases, some shapes are inside other shapes. Just like nested figures.we call outer one as parent and inner one as child. This way, contours in an image has some relationship to each other. And we can specify how one contour is connected to each other, like, is it child of some other contour, or is it a parent etc. Representation of this relationship is called the Hierarchy.If you use this flag, it returns only extreme outer flags. All child contours are left behind. \n",
    "\n",
    "####  If you pass cv.CHAIN_APPROX_NONE, all the boundary points are stored. But actually do we need all the points? For eg, you found the contour of a straight line. Do you need all the points on the line to represent that line? No, we need just two end points of that line. This is what cv.CHAIN_APPROX_SIMPLE does. It removes all redundant points and compresses the contour, thereby saving memory. \n",
    "\n",
    "#### sorted(iterable, key=key, reverse=reverse) - key -  A Function to execute to decide the order. Default is None"
   ]
  },
  {
   "cell_type": "code",
   "execution_count": 2,
   "metadata": {},
   "outputs": [],
   "source": [
    "def load_images(folder):\n",
    "    train_data = []\n",
    "    for filename in os.listdir(folder):\n",
    "        img = cv2.imread(os.path.join(folder , filename), cv2.IMREAD_GRAYSCALE)\n",
    "        img = ~ img\n",
    "        if img is not None:\n",
    "            _,thresh = cv2.threshold(img , 127 , 255 , cv2.THRESH_BINARY)\n",
    "            ctrs,hierachy = cv2.findContours(thresh , cv2.RETR_EXTERNAL , cv2.CHAIN_APPROX_NONE)\n",
    "            cnt = sorted(ctrs , key = lambda ctr:cv2.boundingRect(ctr)[0])\n",
    "            w = int(28)\n",
    "            h = int(28)\n",
    "            maxi = 0\n",
    "            for c in cnt:\n",
    "                x , y , w, h = cv2.boundingRect(c)\n",
    "                maxi = max(w*h , maxi)\n",
    "                if maxi==w*h:\n",
    "                    x_max = x\n",
    "                    y_max = y\n",
    "                    h_max = h\n",
    "                    w_max = w\n",
    "            im_crop = thresh[y_max:y_max+h_max+10 , x_max:x_max+w_max+10]\n",
    "            im_resize = cv2.resize(im_crop , (28, 28))\n",
    "            im_resize = np.reshape(im_resize,(784 ,1))\n",
    "            \n",
    "            train_data.append(im_resize)\n",
    "     \n",
    "    return(train_data)"
   ]
  },
  {
   "cell_type": "code",
   "execution_count": 3,
   "metadata": {},
   "outputs": [],
   "source": [
    "data = []"
   ]
  },
  {
   "cell_type": "code",
   "execution_count": 5,
   "metadata": {},
   "outputs": [
    {
     "name": "stdout",
     "output_type": "stream",
     "text": [
      "2649\n"
     ]
    }
   ],
   "source": [
    "#assign '-'=10\n",
    "data = load_images('C:/Users/win10/Desktop/extracted_images/-')\n",
    "for i in range(0,len(data)):\n",
    "    data[i] = np.append(data[i] , [\"10\"])\n",
    "print(len(data))"
   ]
  },
  {
   "cell_type": "code",
   "execution_count": 11,
   "metadata": {},
   "outputs": [
    {
     "name": "stdout",
     "output_type": "stream",
     "text": [
      "9563\n"
     ]
    }
   ],
   "source": [
    "data0 = load_images('C:/Users/win10/Desktop/extracted_images/0')\n",
    "for i in range(0,len(data0)):\n",
    "    data0[i] = np.append(data0[i] , [\"0\"])\n",
    "data = np.concatenate((data , data0))\n",
    "print(len(data))"
   ]
  },
  {
   "cell_type": "code",
   "execution_count": 12,
   "metadata": {},
   "outputs": [
    {
     "name": "stdout",
     "output_type": "stream",
     "text": [
      "36083\n"
     ]
    }
   ],
   "source": [
    "data1 = load_images('C:/Users/win10/Desktop/extracted_images/1')\n",
    "for i in range(0,len(data1)):\n",
    "    data1[i] = np.append(data1[i] , [\"1\"])\n",
    "data = np.concatenate((data , data1))\n",
    "print(len(data))"
   ]
  },
  {
   "cell_type": "code",
   "execution_count": 13,
   "metadata": {},
   "outputs": [
    {
     "name": "stdout",
     "output_type": "stream",
     "text": [
      "62224\n"
     ]
    }
   ],
   "source": [
    "data2 = load_images('C:/Users/win10/Desktop/extracted_images/2')\n",
    "for i in range(0,len(data2)):\n",
    "    data2[i] = np.append(data2[i] , [\"2\"])\n",
    "data = np.concatenate((data , data2))\n",
    "print(len(data))"
   ]
  },
  {
   "cell_type": "code",
   "execution_count": 14,
   "metadata": {},
   "outputs": [
    {
     "name": "stdout",
     "output_type": "stream",
     "text": [
      "73133\n"
     ]
    }
   ],
   "source": [
    "data3 = load_images('C:/Users/win10/Desktop/extracted_images/3')\n",
    "for i in range(0,len(data3)):\n",
    "    data3[i] = np.append(data3[i] , [\"3\"])\n",
    "data = np.concatenate((data , data3))\n",
    "print(len(data))"
   ]
  },
  {
   "cell_type": "code",
   "execution_count": 15,
   "metadata": {},
   "outputs": [
    {
     "name": "stdout",
     "output_type": "stream",
     "text": [
      "80529\n"
     ]
    }
   ],
   "source": [
    "data4 = load_images('C:/Users/win10/Desktop/extracted_images/4')\n",
    "for i in range(0,len(data4)):\n",
    "    data4[i] = np.append(data4[i] , [\"4\"])\n",
    "data = np.concatenate((data , data4))\n",
    "print(len(data))"
   ]
  },
  {
   "cell_type": "code",
   "execution_count": 16,
   "metadata": {},
   "outputs": [
    {
     "name": "stdout",
     "output_type": "stream",
     "text": [
      "84074\n"
     ]
    }
   ],
   "source": [
    "data5 = load_images('C:/Users/win10/Desktop/extracted_images/5')\n",
    "for i in range(0,len(data5)):\n",
    "    data5[i] = np.append(data5[i] , [\"5\"])\n",
    "data = np.concatenate((data , data5))\n",
    "print(len(data))"
   ]
  },
  {
   "cell_type": "code",
   "execution_count": 17,
   "metadata": {},
   "outputs": [
    {
     "name": "stdout",
     "output_type": "stream",
     "text": [
      "87192\n"
     ]
    }
   ],
   "source": [
    "data6 = load_images('C:/Users/win10/Desktop/extracted_images/6')\n",
    "for i in range(0,len(data6)):\n",
    "    data6[i] = np.append(data6[i] , [\"6\"])\n",
    "data = np.concatenate((data , data6))\n",
    "print(len(data))"
   ]
  },
  {
   "cell_type": "code",
   "execution_count": 18,
   "metadata": {},
   "outputs": [
    {
     "name": "stdout",
     "output_type": "stream",
     "text": [
      "90101\n"
     ]
    }
   ],
   "source": [
    "data7 = load_images('C:/Users/win10/Desktop/extracted_images/7')\n",
    "for i in range(0,len(data7)):\n",
    "    data7[i] = np.append(data7[i] , [\"7\"])\n",
    "data = np.concatenate((data , data7))\n",
    "print(len(data))"
   ]
  },
  {
   "cell_type": "code",
   "execution_count": 19,
   "metadata": {},
   "outputs": [
    {
     "name": "stdout",
     "output_type": "stream",
     "text": [
      "93169\n"
     ]
    }
   ],
   "source": [
    "data8 = load_images('C:/Users/win10/Desktop/extracted_images/8')\n",
    "for i in range(0,len(data8)):\n",
    "    data8[i] = np.append(data8[i] , [\"8\"])\n",
    "data = np.concatenate((data , data8))\n",
    "print(len(data))"
   ]
  },
  {
   "cell_type": "code",
   "execution_count": 20,
   "metadata": {},
   "outputs": [
    {
     "name": "stdout",
     "output_type": "stream",
     "text": [
      "96906\n"
     ]
    }
   ],
   "source": [
    "data9 = load_images('C:/Users/win10/Desktop/extracted_images/9')\n",
    "for i in range(0,len(data9)):\n",
    "    data9[i] = np.append(data9[i] , [\"9\"])\n",
    "data = np.concatenate((data , data9))\n",
    "print(len(data))"
   ]
  },
  {
   "cell_type": "code",
   "execution_count": 21,
   "metadata": {},
   "outputs": [
    {
     "name": "stdout",
     "output_type": "stream",
     "text": [
      "122018\n"
     ]
    }
   ],
   "source": [
    "#assign + = 11\n",
    "data11=load_images('C:/Users/win10/Desktop/extracted_images/+')\n",
    "\n",
    "for i in range(0,len(data11)):\n",
    "    data11[i]=np.append(data11[i],['11'])\n",
    "data=np.concatenate((data,data11))\n",
    "print(len(data))"
   ]
  },
  {
   "cell_type": "code",
   "execution_count": 22,
   "metadata": {},
   "outputs": [
    {
     "name": "stdout",
     "output_type": "stream",
     "text": [
      "125269\n"
     ]
    }
   ],
   "source": [
    "#assign * = 12\n",
    "data12=load_images('C:/Users/win10/Desktop/extracted_images/times')\n",
    "\n",
    "for i in range(0,len(data12)):\n",
    "    data12[i]=np.append(data12[i],['12'])\n",
    "data=np.concatenate((data,data12))\n",
    "print(len(data))"
   ]
  },
  {
   "cell_type": "code",
   "execution_count": 23,
   "metadata": {},
   "outputs": [],
   "source": [
    "df=pd.DataFrame(data,index=None)\n",
    "df.to_csv('train_final.csv',index=False)"
   ]
  },
  {
   "cell_type": "code",
   "execution_count": 24,
   "metadata": {},
   "outputs": [
    {
     "data": {
      "text/plain": [
       "125269"
      ]
     },
     "execution_count": 24,
     "metadata": {},
     "output_type": "execute_result"
    }
   ],
   "source": [
    "len(data)"
   ]
  },
  {
   "cell_type": "code",
   "execution_count": null,
   "metadata": {},
   "outputs": [],
   "source": []
  }
 ],
 "metadata": {
  "kernelspec": {
   "display_name": "Python 3",
   "language": "python",
   "name": "python3"
  },
  "language_info": {
   "codemirror_mode": {
    "name": "ipython",
    "version": 3
   },
   "file_extension": ".py",
   "mimetype": "text/x-python",
   "name": "python",
   "nbconvert_exporter": "python",
   "pygments_lexer": "ipython3",
   "version": "3.7.6"
  }
 },
 "nbformat": 4,
 "nbformat_minor": 4
}
